{
  "nbformat": 4,
  "nbformat_minor": 0,
  "metadata": {
    "colab": {
      "provenance": [],
      "authorship_tag": "ABX9TyO7IGuR2+hVI9d+S/C5CGuL",
      "include_colab_link": true
    },
    "kernelspec": {
      "name": "python3",
      "display_name": "Python 3"
    },
    "language_info": {
      "name": "python"
    }
  },
  "cells": [
    {
      "cell_type": "markdown",
      "metadata": {
        "id": "view-in-github",
        "colab_type": "text"
      },
      "source": [
        "<a href=\"https://colab.research.google.com/github/codesynergy0/learndaily/blob/main/CodeSynergy.ipynb\" target=\"_parent\"><img src=\"https://colab.research.google.com/assets/colab-badge.svg\" alt=\"Open In Colab\"/></a>"
      ]
    },
    {
      "cell_type": "code",
      "execution_count": null,
      "metadata": {
        "id": "q8OWt6ghqXHm"
      },
      "outputs": [],
      "source": []
    },
    {
      "cell_type": "code",
      "source": [
        "print(\"Hello Python\")"
      ],
      "metadata": {
        "colab": {
          "base_uri": "https://localhost:8080/"
        },
        "id": "Fy1OZ9thqZcD",
        "outputId": "2195192b-5ef6-41c9-e732-8cce1a45eb7d"
      },
      "execution_count": null,
      "outputs": [
        {
          "output_type": "stream",
          "name": "stdout",
          "text": [
            "Hello Python\n"
          ]
        }
      ]
    },
    {
      "cell_type": "code",
      "source": [
        "x = 5\n",
        "if x > 2:\n",
        "    print(\"Bigger than 2\")\n",
        "    print(\"Still bigger\")\n",
        "print(\"Done with 2\")\n",
        "\n",
        "for i in range(5):\n",
        "    print(i)\n",
        "    if i > 2:\n",
        "        print(\"Bigger than 2\")\n",
        "    print(\"Done with i\", i)\n",
        "print(\"All Done\")"
      ],
      "metadata": {
        "id": "RAEyavfpq9Pt"
      },
      "execution_count": null,
      "outputs": []
    },
    {
      "cell_type": "code",
      "source": [
        "x = 2\n",
        "print(x) #integer\n",
        "\n",
        "x = x + 2\n",
        "print(x) #integer\n",
        "x = 2.0 #float\n",
        "print(x)\n",
        "\n",
        "type(x)\n"
      ],
      "metadata": {
        "colab": {
          "base_uri": "https://localhost:8080/"
        },
        "id": "8mSQJgdC--ib",
        "outputId": "2b512d90-ed6a-4eae-8435-b771e422d798"
      },
      "execution_count": null,
      "outputs": [
        {
          "output_type": "stream",
          "name": "stdout",
          "text": [
            "2\n",
            "4\n",
            "2.0\n"
          ]
        },
        {
          "output_type": "execute_result",
          "data": {
            "text/plain": [
              "float"
            ]
          },
          "metadata": {},
          "execution_count": 2
        }
      ]
    },
    {
      "cell_type": "code",
      "source": [
        "#Oder of Operation in Python\n",
        "\n",
        "x = 1 + 2 ** 3 / 4 * 5\n",
        "print(x)\n"
      ],
      "metadata": {
        "id": "5sJ5LPrRBsD2"
      },
      "execution_count": null,
      "outputs": []
    },
    {
      "cell_type": "code",
      "source": [
        "#String Casting\n",
        "\n",
        "a = \"hello\" + \"world\"\n",
        "print(a)\n",
        "type(1.0)\n",
        "type(\"hello\")\n",
        "type(1)\n",
        "i = int(42.0) #String Casting\n",
        "type(i)\n",
        "print(i)\n",
        "f = float(100) #Function Casting\n",
        "print(f)\n",
        "type(f)\n",
        "\n",
        "password = int(input(\"Enter a password\"))\n",
        "\n",
        "a = 67.0 #float\n",
        "a = int(a)  #integer\n",
        "print(a)\n",
        "\n",
        "\n",
        "email = float(input(\"Enter a number\"))\n",
        "print(email)\n",
        "\n",
        "type(email)\n",
        "\n",
        "e = int(email)\n",
        "\n"
      ],
      "metadata": {
        "colab": {
          "base_uri": "https://localhost:8080/"
        },
        "id": "DvqEu2e7GbqH",
        "outputId": "58107a36-14ac-4e21-b7ba-3936ca8f6b2c"
      },
      "execution_count": null,
      "outputs": [
        {
          "output_type": "stream",
          "name": "stdout",
          "text": [
            "helloworld\n",
            "42\n",
            "100.0\n"
          ]
        },
        {
          "output_type": "execute_result",
          "data": {
            "text/plain": [
              "float"
            ]
          },
          "metadata": {},
          "execution_count": 3
        }
      ]
    },
    {
      "cell_type": "code",
      "source": [
        "x = int(input(\"Enter x\")) #number #strings character text 30\n",
        "\n",
        "\n",
        "if x < 10: #True\n",
        "  print(\"Small\")\n",
        "\n",
        "  print(\"Done\")\n",
        "  print(\"Done\") #Block\n",
        "  print(\"Done\")\n",
        "\n",
        "print(\"Outside the block of the if statement\")\n",
        "\n",
        "\n",
        "  #Part of the block\n",
        "\n",
        "\n",
        "if x > 20:\n",
        "  print(\"Bigger\")\n",
        "\n",
        "print(\"Finis\")\n",
        "\n",
        "\n",
        "\n",
        "\n"
      ],
      "metadata": {
        "colab": {
          "base_uri": "https://localhost:8080/"
        },
        "id": "dvHa1RFVIf2K",
        "outputId": "020c94de-ca9b-4653-e268-620c4b6d31e5"
      },
      "execution_count": null,
      "outputs": [
        {
          "output_type": "stream",
          "name": "stdout",
          "text": [
            "Enter x5\n",
            "Small\n",
            "Done\n",
            "Done\n",
            "Done\n",
            "Outside the block of the if statement\n",
            "Finis\n"
          ]
        }
      ]
    },
    {
      "cell_type": "code",
      "source": [
        "#Elevator floor conversion based on region or country👇\n",
        "\n",
        "# Elevator US Ground FLoor is 0\n",
        "# Europe Grand FLoor is 1\n",
        "\n",
        "inp = input(\"Europe Floor?\")\n",
        "print()\n",
        "print()\n",
        "\n",
        "\n",
        "#"
      ],
      "metadata": {
        "colab": {
          "base_uri": "https://localhost:8080/"
        },
        "id": "loLNjX1GMfHi",
        "outputId": "deaa4ef6-6574-4c6f-990c-64247f847003"
      },
      "execution_count": null,
      "outputs": [
        {
          "output_type": "stream",
          "name": "stdout",
          "text": [
            "Enter floor220\n",
            "US Floor: 219\n"
          ]
        }
      ]
    },
    {
      "cell_type": "code",
      "source": [
        "  # Create a program that asks the user to input a temperature in Celsius and converts it to Fahrenheit using the formula:\n",
        "  #`Fahrenheit = (Celsius * 9/5) + 32`.\n",
        "\n",
        "celsius = float(input(\"Enter temperature in Celsius: \"))\n",
        "\n",
        "Fahrenheit = celsius * 9/5 + 32\n",
        "\n",
        "Fahrenhiet = round(Fahrenheit, 2)\n",
        "print(\"Your temperature is Fahrenheif\", Fahrenheit)\n",
        "\n"
      ],
      "metadata": {
        "colab": {
          "base_uri": "https://localhost:8080/"
        },
        "id": "2JveJSpHWK9l",
        "outputId": "74d8bed7-742a-47a1-ef26-47c7d7a966b3"
      },
      "execution_count": null,
      "outputs": [
        {
          "output_type": "stream",
          "name": "stdout",
          "text": [
            "Enter temperature in Celsius: 38.5\n",
            "Your temperature is Fahrenheif 101.3\n"
          ]
        }
      ]
    },
    {
      "cell_type": "code",
      "source": [
        "astr = input(\"Enter a num: \")\n",
        "\n",
        "try:\n",
        "  astr = int(astr)\n",
        "except:\n",
        "  astr = -1\n",
        "\n",
        "if astr > 0:\n",
        "  print(\"Nice work\")\n",
        "\n",
        "else:\n",
        "  print(\"Not a number\")\n"
      ],
      "metadata": {
        "colab": {
          "base_uri": "https://localhost:8080/"
        },
        "id": "8tWWgkp-kSlD",
        "outputId": "fe9a7f10-4a4a-4ebc-bb41-815719ccead9"
      },
      "execution_count": 3,
      "outputs": [
        {
          "output_type": "stream",
          "name": "stdout",
          "text": [
            "Enter a num: -90\n",
            "Not a number\n"
          ]
        }
      ]
    },
    {
      "cell_type": "code",
      "source": [
        "astr = \"Hello Bob\"\n",
        "\n",
        "try:\n",
        "  astr = int(astr)\n",
        "\n",
        "except:\n",
        "  astr =-1\n",
        "print(\"First astr\")\n",
        "\n",
        "astr = \"123\"\n",
        "try:\n",
        "  astr = int(astr)\n",
        "except:\n",
        "  astr =-1\n",
        "\n",
        "print(\"Second\", astr)"
      ],
      "metadata": {
        "colab": {
          "base_uri": "https://localhost:8080/"
        },
        "id": "npCBCoUgmESr",
        "outputId": "1f9d478e-3cb2-4857-dbc2-b5203e348a53"
      },
      "execution_count": 6,
      "outputs": [
        {
          "output_type": "stream",
          "name": "stdout",
          "text": [
            "First astr\n",
            "Second 123\n"
          ]
        }
      ]
    },
    {
      "cell_type": "code",
      "source": [
        "hours_work = input(\"Enter hours :\")\n",
        "\n",
        "hours_work = int(hours_work)\n",
        "\n",
        "rate_per_hour = float(input(\"Enter rate\"))\n",
        "\n",
        "total_hour = hours_work * rate_per_hour / 10\n",
        "print(f\"You earn {total_hour}, for your total hours\")\n"
      ],
      "metadata": {
        "colab": {
          "base_uri": "https://localhost:8080/"
        },
        "id": "ZCwriAAFzlvT",
        "outputId": "a245031c-1ee7-4d8b-c2de-ece9e2081c12"
      },
      "execution_count": 15,
      "outputs": [
        {
          "output_type": "stream",
          "name": "stdout",
          "text": [
            "Enter hours :40\n",
            "Enter rate10.50\n",
            "You earn 42.0, for your total hours\n"
          ]
        }
      ]
    },
    {
      "cell_type": "markdown",
      "source": [
        " Write a program to prompt the user for hours and rate per hour using input to compute gross pay. Pay the hourly rate for the hours up to 40 and 1.5 times the hourly rate for all hours worked above 40 hours. Use 45 hours and a rate of 10.50 per hour to test the program (the pay should be 498.75). You should use input to read a string and float() to convert the string to a number. Do not worry about error checking the user input - assume the user types numbers properly.\n"
      ],
      "metadata": {
        "id": "KxTLIUa34eR7"
      }
    },
    {
      "cell_type": "code",
      "source": [
        "hours = input(\"Enter hours: \")\n",
        "rate = input(\"Enter rate: \")\n",
        "\n",
        "\n",
        "try:\n",
        "  hours = float(hours)\n",
        "  rate = float(rate)\n",
        "\n",
        "  if hours <= 40:\n",
        "    pay = hours * rate\n",
        "  else:\n",
        "    overtime_hours = (hours - 40) * rate * 1.5\n",
        "    pay = (40 * rate) + overtime_hours\n",
        "    print(pay)\n",
        "except:\n",
        "  print(\"Error, please enter numeric input\")\n"
      ],
      "metadata": {
        "id": "plR3L-hz4d6f"
      },
      "execution_count": null,
      "outputs": []
    },
    {
      "cell_type": "code",
      "source": [
        "hrs = input(\"Enter Hours:\")\n",
        "rate = input(\"Enter rate:\")\n",
        "\n",
        "try:\n",
        "    h = float(hrs)\n",
        "    r = float(rate)\n",
        "\n",
        "if h <= 40:\n",
        "    pay = h * r\n",
        "\n",
        "else:\n",
        "    over_hours = h * r * 1.5\n",
        "    pay = (h - 40) * r * over_hours\n",
        "    pay = h + over_hours\n",
        "    print(pay)\n"
      ],
      "metadata": {
        "id": "U_RIFdGxCLx3"
      },
      "execution_count": null,
      "outputs": []
    }
  ]
}